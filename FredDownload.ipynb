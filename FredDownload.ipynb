{
 "cells": [
  {
   "cell_type": "code",
   "execution_count": 1,
   "id": "38a14348",
   "metadata": {},
   "outputs": [],
   "source": [
    "# key file should be stored in ./storage/fred/keys.txt path\n",
    "# The key file is a json file and the key is stored in the format \\{\"fred\": \"key_sequence\"\\}.\n",
    "# A key can be ontained by registering here: https://fredaccount.stlouisfed.org/apikeys"
   ]
  },
  {
   "cell_type": "code",
   "execution_count": 2,
   "id": "616e2480",
   "metadata": {},
   "outputs": [],
   "source": [
    "%load_ext autoreload\n",
    "%autoreload 2"
   ]
  },
  {
   "cell_type": "code",
   "execution_count": 3,
   "id": "db584f28",
   "metadata": {},
   "outputs": [
    {
     "name": "stderr",
     "output_type": "stream",
     "text": [
      "/workspace/fred_timeseries_dataset/datasets/fred_dataset.py:17: TqdmExperimentalWarning: Using `tqdm.autonotebook.tqdm` in notebook mode. Use `tqdm.tqdm` instead to force console mode (e.g. in jupyter console)\n",
      "  from tqdm.autonotebook import tqdm\n",
      "DEBUG:root:test logging\n"
     ]
    }
   ],
   "source": [
    "from common.metrics import smape_1, smape_2\n",
    "\n",
    "from datasets.fred_dataset import init as init_fred_dataset\n",
    "\n",
    "\n",
    "import logging\n",
    "logger = logging.getLogger()\n",
    "logger.setLevel(logging.DEBUG)\n",
    "logging.debug(\"test logging\")\n"
   ]
  },
  {
   "cell_type": "code",
   "execution_count": null,
   "id": "93246113",
   "metadata": {},
   "outputs": [
    {
     "name": "stderr",
     "output_type": "stream",
     "text": [
      "INFO:root:Loading categories...\n",
      "INFO:root:Process parent category 0\n",
      "INFO:root:Caught Error processing '0': FRED key file is not found\n",
      "INFO:root:Unknown error, Waiting 20.0 seconds to retry, retries: 20\n"
     ]
    },
    {
     "name": "stdout",
     "output_type": "stream",
     "text": [
      "key file should be stored in /./storage/fred/keys.txt path\n",
      "The key file is a json file and the key is stored in the format \\{\"fred\": \"key_sequence\"\\}.\n",
      "A key can be ontained by registering here: https://fredaccount.stlouisfed.org/apikeys\n"
     ]
    }
   ],
   "source": [
    "init_fred_dataset()"
   ]
  },
  {
   "cell_type": "code",
   "execution_count": null,
   "id": "fb824e72",
   "metadata": {},
   "outputs": [],
   "source": []
  },
  {
   "cell_type": "code",
   "execution_count": null,
   "id": "48092bfb",
   "metadata": {},
   "outputs": [],
   "source": []
  }
 ],
 "metadata": {
  "kernelspec": {
   "display_name": "Python 3 (ipykernel)",
   "language": "python",
   "name": "python3"
  },
  "language_info": {
   "codemirror_mode": {
    "name": "ipython",
    "version": 3
   },
   "file_extension": ".py",
   "mimetype": "text/x-python",
   "name": "python",
   "nbconvert_exporter": "python",
   "pygments_lexer": "ipython3",
   "version": "3.7.17"
  }
 },
 "nbformat": 4,
 "nbformat_minor": 5
}
